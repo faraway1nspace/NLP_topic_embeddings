{
 "cells": [
  {
   "cell_type": "markdown",
   "metadata": {},
   "source": [
    "## Background\n",
    "This notebook presents an LSTM model for supervised text-classification of consumer complaints. The model takes the written complaints of financial products from US consumers and classifies the them into various financial categories (e.g., mortgage fraud, undue fees, identity theft).\n",
    "\n",
    "The model is based on a similar analysis I performed during an Insight Data fellowship using a proprietary data for classification and sentiment analysis.\n",
    "\n",
    "In this demo, we will design a <b>Long Short Term Memory</b> (LSTM) deep-learning model using the Keras API. It is meant as a benchmark for another model in the sibling file XXX, which uses another technique. The following analysis may stand on its own, although I would suggest users try and take inspiration from the other file.\n",
    "\n",
    "## Analysis\n",
    "In the following script, we will do the following:\n",
    "\n",
    "+ some basic NLP preprocessing\n",
    "+ design and execute an LSTM\n",
    "+ validation\n",
    "+ hyperparameter tuning\n",
    "\n",
    "## Data\n",
    "Data is included in the 'data' directory as a large compressed .csv file from the US Consumer Financial Protection Bureau [available here](https://www.consumerfinance.gov/data-research/consumer-complaints/search/?from=0&searchField=all&searchText=&size=25&sort=created_date_desc). To save space, I keep the data as a tar xz file, and in the python code I extract it for one-time use in a tmp directory. This works on Linux/Mac, but windows users may have to manually extract the contents, and modify the script to import from where they extracted the contents. "
   ]
  }
 ],
 "metadata": {
  "kernelspec": {
   "display_name": "Python 3",
   "language": "python",
   "name": "python3"
  },
  "language_info": {
   "codemirror_mode": {
    "name": "ipython",
    "version": 3
   },
   "file_extension": ".py",
   "mimetype": "text/x-python",
   "name": "python",
   "nbconvert_exporter": "python",
   "pygments_lexer": "ipython3",
   "version": "3.6.6"
  }
 },
 "nbformat": 4,
 "nbformat_minor": 2
}
